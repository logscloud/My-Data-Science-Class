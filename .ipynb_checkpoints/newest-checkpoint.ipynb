{
 "cells": [
  {
   "cell_type": "markdown",
   "id": "cb408036",
   "metadata": {},
   "source": [
    "Create 4 variables"
   ]
  },
  {
   "cell_type": "code",
   "execution_count": 1,
   "id": "a852605e",
   "metadata": {},
   "outputs": [
    {
     "name": "stdout",
     "output_type": "stream",
     "text": [
      "ada\n"
     ]
    }
   ],
   "source": [
    "names = [\"john\",\"ada\",\"nike\",\"ade\"]\n",
    "numbs = [14,5,78,98]\n",
    "ID = [34.5,45.8,0.02,9.8]\n",
    "bool = [True,False]\n",
    "print(names[1])"
   ]
  },
  {
   "cell_type": "markdown",
   "id": "4f920c91",
   "metadata": {},
   "source": [
    "CREATE 4 VARIBLES\n",
    "#Integer\n",
    "#string\n",
    "#float\n",
    "#boolean"
   ]
  },
  {
   "cell_type": "code",
   "execution_count": 2,
   "id": "ece6ad7e",
   "metadata": {},
   "outputs": [
    {
     "data": {
      "text/plain": [
       "'n'"
      ]
     },
     "execution_count": 2,
     "metadata": {},
     "output_type": "execute_result"
    }
   ],
   "source": [
    "a = 2356\n",
    "b = 'mine'\n",
    "c = 0.678\n",
    "d = (True,False)\n",
    "b[2]"
   ]
  },
  {
   "cell_type": "markdown",
   "id": "a6d464fd",
   "metadata": {},
   "source": [
    "Create an empty list"
   ]
  },
  {
   "cell_type": "code",
   "execution_count": 3,
   "id": "d71d6f8c",
   "metadata": {},
   "outputs": [],
   "source": [
    "name=[]"
   ]
  },
  {
   "cell_type": "code",
   "execution_count": 4,
   "id": "83b660b8",
   "metadata": {},
   "outputs": [
    {
     "data": {
      "text/plain": [
       "['mine']"
      ]
     },
     "execution_count": 4,
     "metadata": {},
     "output_type": "execute_result"
    }
   ],
   "source": [
    "name.append(b)\n",
    "name"
   ]
  },
  {
   "cell_type": "code",
   "execution_count": 5,
   "id": "7cd62985",
   "metadata": {},
   "outputs": [
    {
     "data": {
      "text/plain": [
       "2356.678"
      ]
     },
     "execution_count": 5,
     "metadata": {},
     "output_type": "execute_result"
    }
   ],
   "source": [
    "u=a+c\n",
    "u"
   ]
  },
  {
   "cell_type": "code",
   "execution_count": 6,
   "id": "3de31218",
   "metadata": {},
   "outputs": [
    {
     "data": {
      "text/plain": [
       "['mine', 2356.678]"
      ]
     },
     "execution_count": 6,
     "metadata": {},
     "output_type": "execute_result"
    }
   ],
   "source": [
    "name.append(u)\n",
    "name"
   ]
  },
  {
   "cell_type": "code",
   "execution_count": 7,
   "id": "b98e3d20",
   "metadata": {},
   "outputs": [
    {
     "data": {
      "text/plain": [
       "True"
      ]
     },
     "execution_count": 7,
     "metadata": {},
     "output_type": "execute_result"
    }
   ],
   "source": [
    "y = 5>3\n",
    "y"
   ]
  },
  {
   "cell_type": "code",
   "execution_count": 8,
   "id": "ae3180b9",
   "metadata": {},
   "outputs": [
    {
     "data": {
      "text/plain": [
       "1"
      ]
     },
     "execution_count": 8,
     "metadata": {},
     "output_type": "execute_result"
    }
   ],
   "source": [
    "int(True)"
   ]
  },
  {
   "cell_type": "code",
   "execution_count": 9,
   "id": "9a96517e",
   "metadata": {},
   "outputs": [
    {
     "data": {
      "text/plain": [
       "False"
      ]
     },
     "execution_count": 9,
     "metadata": {},
     "output_type": "execute_result"
    }
   ],
   "source": [
    "t = 56<4\n",
    "t"
   ]
  },
  {
   "cell_type": "code",
   "execution_count": 10,
   "id": "3375a582",
   "metadata": {},
   "outputs": [
    {
     "data": {
      "text/plain": [
       "0"
      ]
     },
     "execution_count": 10,
     "metadata": {},
     "output_type": "execute_result"
    }
   ],
   "source": [
    "int(False)"
   ]
  },
  {
   "cell_type": "code",
   "execution_count": 11,
   "id": "650fc111",
   "metadata": {},
   "outputs": [
    {
     "data": {
      "text/plain": [
       "['mine', 2356.678, (True, False)]"
      ]
     },
     "execution_count": 11,
     "metadata": {},
     "output_type": "execute_result"
    }
   ],
   "source": [
    "name.append(d)\n",
    "name"
   ]
  },
  {
   "cell_type": "code",
   "execution_count": 12,
   "id": "e12cae7f",
   "metadata": {},
   "outputs": [
    {
     "data": {
      "text/plain": [
       "3"
      ]
     },
     "execution_count": 12,
     "metadata": {},
     "output_type": "execute_result"
    }
   ],
   "source": [
    "len(name)"
   ]
  },
  {
   "cell_type": "code",
   "execution_count": 17,
   "id": "f885aedf",
   "metadata": {},
   "outputs": [
    {
     "data": {
      "text/plain": [
       "['osun', 'ogun', 'ekiti', 'ondo', 'Lagos']"
      ]
     },
     "execution_count": 17,
     "metadata": {},
     "output_type": "execute_result"
    }
   ],
   "source": [
    "West = [\"osun\",\"ogun\",\"ekiti\",\"ondo\",\"sokoto\"]\n",
    "North = [\"kano\",\"yola\",\"jalingo\",\"maiduguri\"]\n",
    "East = [\"enugu\",\"abia\",\"delta\",\"rivers\"]\n",
    "## CHANGE SOKOTO TO LAGOS IN THE LIST\n",
    "West[4]=\"Lagos\"\n",
    "West"
   ]
  },
  {
   "cell_type": "code",
   "execution_count": 14,
   "id": "dd2fe420",
   "metadata": {},
   "outputs": [
    {
     "data": {
      "text/plain": [
       "'Lagos'"
      ]
     },
     "execution_count": 14,
     "metadata": {},
     "output_type": "execute_result"
    }
   ],
   "source": [
    "West[4]"
   ]
  },
  {
   "cell_type": "code",
   "execution_count": 18,
   "id": "7ef2720f",
   "metadata": {},
   "outputs": [
    {
     "ename": "ValueError",
     "evalue": "list.remove(x): x not in list",
     "output_type": "error",
     "traceback": [
      "\u001b[1;31m---------------------------------------------------------------------------\u001b[0m",
      "\u001b[1;31mValueError\u001b[0m                                Traceback (most recent call last)",
      "Cell \u001b[1;32mIn[18], line 1\u001b[0m\n\u001b[1;32m----> 1\u001b[0m West\u001b[38;5;241m.\u001b[39mremove(\u001b[38;5;124m\"\u001b[39m\u001b[38;5;124msokoto\u001b[39m\u001b[38;5;124m\"\u001b[39m)\n\u001b[0;32m      2\u001b[0m West\n",
      "\u001b[1;31mValueError\u001b[0m: list.remove(x): x not in list"
     ]
    }
   ],
   "source": [
    "West.remove(\"sokoto\")\n",
    "West"
   ]
  },
  {
   "cell_type": "code",
   "execution_count": null,
   "id": "f2639110",
   "metadata": {},
   "outputs": [],
   "source": [
    "West.append(\"lagos\")\n",
    "West"
   ]
  },
  {
   "cell_type": "markdown",
   "id": "08d1145a",
   "metadata": {},
   "source": [
    "TURN LIST CREATED TO TUPLE"
   ]
  },
  {
   "cell_type": "code",
   "execution_count": 19,
   "id": "244e8436",
   "metadata": {},
   "outputs": [
    {
     "data": {
      "text/plain": [
       "('osun', 'ogun', 'ekiti', 'ondo', 'Lagos')"
      ]
     },
     "execution_count": 19,
     "metadata": {},
     "output_type": "execute_result"
    }
   ],
   "source": [
    "tuple(West)"
   ]
  },
  {
   "cell_type": "code",
   "execution_count": 20,
   "id": "8e164494",
   "metadata": {},
   "outputs": [
    {
     "data": {
      "text/plain": [
       "('kano', 'yola', 'jalingo', 'maiduguri')"
      ]
     },
     "execution_count": 20,
     "metadata": {},
     "output_type": "execute_result"
    }
   ],
   "source": [
    "tuple(North)"
   ]
  },
  {
   "cell_type": "code",
   "execution_count": 21,
   "id": "68679cca",
   "metadata": {},
   "outputs": [
    {
     "data": {
      "text/plain": [
       "('enugu', 'abia', 'delta', 'rivers')"
      ]
     },
     "execution_count": 21,
     "metadata": {},
     "output_type": "execute_result"
    }
   ],
   "source": [
    "tuple(East)"
   ]
  },
  {
   "cell_type": "markdown",
   "id": "c9b59254",
   "metadata": {},
   "source": [
    "Create a dictionary called nigeria and append the 3 list created to it"
   ]
  },
  {
   "cell_type": "code",
   "execution_count": 24,
   "id": "df63465b",
   "metadata": {},
   "outputs": [],
   "source": [
    "Nigeria = {}"
   ]
  },
  {
   "cell_type": "code",
   "execution_count": 29,
   "id": "0f50e009",
   "metadata": {},
   "outputs": [],
   "source": [
    "Nigeria[\"West\"]=West\n",
    "Nigeria[\"North\"]=North\n",
    "Nigeria[\"East\"]=East"
   ]
  },
  {
   "cell_type": "code",
   "execution_count": 30,
   "id": "8c077745",
   "metadata": {},
   "outputs": [
    {
     "data": {
      "text/plain": [
       "{'West': ['osun', 'ogun', 'ekiti', 'ondo', 'Lagos'],\n",
       " 'North': ['kano', 'yola', 'jalingo', 'maiduguri'],\n",
       " 'East': ['enugu', 'abia', 'delta', 'rivers']}"
      ]
     },
     "execution_count": 30,
     "metadata": {},
     "output_type": "execute_result"
    }
   ],
   "source": [
    "Nigeria"
   ]
  }
 ],
 "metadata": {
  "kernelspec": {
   "display_name": "Python 3 (ipykernel)",
   "language": "python",
   "name": "python3"
  },
  "language_info": {
   "codemirror_mode": {
    "name": "ipython",
    "version": 3
   },
   "file_extension": ".py",
   "mimetype": "text/x-python",
   "name": "python",
   "nbconvert_exporter": "python",
   "pygments_lexer": "ipython3",
   "version": "3.11.5"
  }
 },
 "nbformat": 4,
 "nbformat_minor": 5
}
