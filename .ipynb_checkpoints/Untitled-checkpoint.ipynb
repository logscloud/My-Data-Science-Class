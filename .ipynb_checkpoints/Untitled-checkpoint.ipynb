{
 "cells": [
  {
   "cell_type": "code",
   "execution_count": 2,
   "id": "8584479b",
   "metadata": {},
   "outputs": [
    {
     "name": "stdout",
     "output_type": "stream",
     "text": [
      "orange\n",
      "pineapple\n"
     ]
    }
   ],
   "source": [
    "thislist = [\"apple\",\"orange\",\"pineapple\"]\n",
    "print(thislist[1])\n",
    "print(thislist[-1])"
   ]
  },
  {
   "cell_type": "code",
   "execution_count": 6,
   "id": "931c6378",
   "metadata": {},
   "outputs": [
    {
     "name": "stdout",
     "output_type": "stream",
     "text": [
      "['banana', 'kiwi']\n",
      "['apple', 'watermelon', 'banana']\n",
      "['kiwi', 'avocado', 'grapes']\n",
      "['kiwi', 'avocado']\n"
     ]
    }
   ],
   "source": [
    "mylist = [\"apple\",\"watermelon\",\"banana\",\"kiwi\",\"avocado\",\"grapes\"]\n",
    "print(mylist[2:4])\n",
    "print(mylist[:3])\n",
    "print(mylist[3:])\n",
    "print(mylist[-3:-1])"
   ]
  }
 ],
 "metadata": {
  "kernelspec": {
   "display_name": "Python 3 (ipykernel)",
   "language": "python",
   "name": "python3"
  },
  "language_info": {
   "codemirror_mode": {
    "name": "ipython",
    "version": 3
   },
   "file_extension": ".py",
   "mimetype": "text/x-python",
   "name": "python",
   "nbconvert_exporter": "python",
   "pygments_lexer": "ipython3",
   "version": "3.11.5"
  }
 },
 "nbformat": 4,
 "nbformat_minor": 5
}
