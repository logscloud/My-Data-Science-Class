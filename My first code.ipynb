{
 "cells": [
  {
   "cell_type": "code",
   "execution_count": 2,
   "id": "5abf13bf",
   "metadata": {},
   "outputs": [
    {
     "name": "stdout",
     "output_type": "stream",
     "text": [
      "hello\n"
     ]
    }
   ],
   "source": [
    "print(\"hello\")"
   ]
  },
  {
   "cell_type": "code",
   "execution_count": 5,
   "id": "bb0ce4f3",
   "metadata": {},
   "outputs": [
    {
     "name": "stdout",
     "output_type": "stream",
     "text": [
      "Aliu Kehinde Rahfah\n"
     ]
    }
   ],
   "source": [
    "print(\"Aliu Kehinde Rahfah\")"
   ]
  },
  {
   "cell_type": "markdown",
   "id": "cd6f9d50",
   "metadata": {},
   "source": [
    "# This is Rahfah"
   ]
  },
  {
   "cell_type": "markdown",
   "id": "de51d75f",
   "metadata": {},
   "source": [
    "#this is the largest"
   ]
  },
  {
   "cell_type": "markdown",
   "id": "6045ff75",
   "metadata": {},
   "source": [
    "# this is a comment\n",
    "- you"
   ]
  },
  {
   "cell_type": "code",
   "execution_count": null,
   "id": "d6361e80",
   "metadata": {},
   "outputs": [],
   "source": []
  }
 ],
 "metadata": {
  "kernelspec": {
   "display_name": "Python 3 (ipykernel)",
   "language": "python",
   "name": "python3"
  },
  "language_info": {
   "codemirror_mode": {
    "name": "ipython",
    "version": 3
   },
   "file_extension": ".py",
   "mimetype": "text/x-python",
   "name": "python",
   "nbconvert_exporter": "python",
   "pygments_lexer": "ipython3",
   "version": "3.11.5"
  }
 },
 "nbformat": 4,
 "nbformat_minor": 5
}
